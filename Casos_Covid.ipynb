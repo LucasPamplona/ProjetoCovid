{
 "cells": [
  {
   "cell_type": "markdown",
   "metadata": {},
   "source": [
    "                   # Desafio Semantix - Campanha nacional de vacinação contra a Covid-19"
   ]
  },
  {
   "cell_type": "code",
   "execution_count": 1,
   "metadata": {},
   "outputs": [],
   "source": [
    "from pyspark.sql import *\n",
    "from pyspark.sql.types import *\n",
    "from pyspark.sql.functions import *\n",
    "\n",
    "#Setar o banco de dados Hive para a database Covid\n",
    "spark.catalog.setCurrentDatabase(\"covid\")\n"
   ]
  },
  {
   "cell_type": "code",
   "execution_count": 2,
   "metadata": {},
   "outputs": [],
   "source": [
    "#Criar estrutura dos arquivos\n",
    "columns_list = [\n",
    "StructField(\"regiao\", StringType()),\n",
    "StructField(\"estado\", StringType()),\n",
    "StructField(\"municipio\", StringType()),\n",
    "StructField(\"coduf\", StringType()),\n",
    "StructField(\"codmun\", StringType()),\n",
    "StructField(\"codRegiaoSaude\", StringType()),\n",
    "StructField(\"nomeRegiaoSaude\", StringType()),\n",
    "StructField(\"data\", StringType()),\n",
    "StructField(\"semanaEpi\", StringType()),\n",
    "StructField(\"populacaoTCU2019\", IntegerType()),\n",
    "StructField(\"casosAcumulado\", IntegerType()),\n",
    "StructField(\"casosNovos\", IntegerType()),\n",
    "StructField(\"obitosAcumulado\", IntegerType()),\n",
    "StructField(\"obitosNovos\", IntegerType()),\n",
    "StructField(\"Recuperadosnovos\", IntegerType()),\n",
    "StructField(\"emAcompanhamentoNovos\", IntegerType()),\n",
    "StructField(\"interior/metropolitana\", IntegerType())]\n",
    "\n",
    "name_schema = StructType(columns_list)\n",
    "\n",
    "#Importar os arquivos historico de Covid Brasil\n",
    "covidDF = spark.read.csv(\"/user/lucas/data/covid\",header='true',sep=';',schema=name_schema)\n"
   ]
  },
  {
   "cell_type": "code",
   "execution_count": 5,
   "metadata": {},
   "outputs": [],
   "source": [
    "# Salvar como tabela hive particionada por municipio\n",
    "covidDF.write.saveAsTable(\"covid\",partitionBy=\"municipio\")\n"
   ]
  },
  {
   "cell_type": "code",
   "execution_count": 7,
   "metadata": {},
   "outputs": [
    {
     "name": "stdout",
     "output_type": "stream",
     "text": [
      "Found 1 items\r\n",
      "drwxr-xr-x   - root supergroup          0 2022-04-24 15:28 /user/hive/warehouse/covid.db/covid\r\n"
     ]
    }
   ],
   "source": [
    "#Conferir tabela criada \n",
    "!hdfs dfs -ls /user/hive/warehouse/covid.db/"
   ]
  },
  {
   "cell_type": "code",
   "execution_count": 9,
   "metadata": {},
   "outputs": [
    {
     "name": "stdout",
     "output_type": "stream",
     "text": [
      "+-----------------+-----------------+\n",
      "|Casos_Recuperados|Em_acompanhamento|\n",
      "+-----------------+-----------------+\n",
      "|         17262646|          1065477|\n",
      "+-----------------+-----------------+\n",
      "\n"
     ]
    }
   ],
   "source": [
    "# Primeira vizualização,foi separada em dois data frames para agrupar o ultimo registro de casos novos de status Em acompanhamento.\n",
    "covidRecuperados = covidDF.agg(max(\"Recuperadosnovos\").alias(\"Casos_Recuperados\"),last(\"data\").alias(\"data\"))\n",
    "\n",
    "covidAcompanhamentoNovos = covidDF.groupBy(\"data\").agg(max(\"emAcompanhamentoNovos\").alias(\"Casos novos\")).sort(desc(\"data\"))\n",
    "covidAcompanhamento = covidAcompanhamentoNovos.agg(first(\"Casos novos\").alias(\"Em_acompanhamento\"),first(\"data\").alias(\"data\"))\n",
    "\n",
    "covidRecuperadosAcompanhamentoJoin = covidRecuperados.join(covidAcompanhamento, covidRecuperados.data == covidAcompanhamento.data,\"inner\")\n",
    "covidRecuperadosAcompanhamento = covidRecuperadosAcompanhamentoJoin.select(\"Casos_Recuperados\",\"Em_acompanhamento\")\n",
    "covidRecuperadosAcompanhamento.show()"
   ]
  },
  {
   "cell_type": "code",
   "execution_count": 10,
   "metadata": {},
   "outputs": [
    {
     "name": "stdout",
     "output_type": "stream",
     "text": [
      "+---------+-----------+----------+\n",
      "|Acumulado|Casos_novos|Incidencia|\n",
      "+---------+-----------+----------+\n",
      "| 18855015|      62504|   8,972.3|\n",
      "+---------+-----------+----------+\n",
      "\n"
     ]
    }
   ],
   "source": [
    "# Segunda vizualização,foi separada em dois data frames para agrupar o ultimo registro de casos novos de covid.\n",
    "covidAcumuladoIncidencia = covidDF.agg(max(\"casosAcumulado\").alias(\"Acumulado\"),format_number(max(\"casosAcumulado\")/max(\"populacaoTCU2019\")*100000,1).alias(\"Incidencia\"),last(\"data\").alias(\"data\"))\n",
    "\n",
    "covidCasosNovos = covidDF.groupBy(\"data\").agg(max(\"casosNovos\").alias(\"Casos novos\")).sort(desc(\"data\"))\n",
    "covidCasos = covidCasosNovos.agg(first(\"Casos novos\").alias(\"Casos_novos\"),first(\"data\").alias(\"data\"))\n",
    "\n",
    "covidAcumuladoIncidenciaCasosJoin = covidAcumuladoIncidencia.join(covidCasos, covidAcumuladoIncidencia.data == covidCasos.data,\"inner\")\n",
    "covidAcumuladoIncidenciaCasos = covidAcumuladoIncidenciaCasosJoin.select(\"Acumulado\",\"Casos_novos\",\"Incidencia\")\n",
    "covidAcumuladoIncidenciaCasos.show()"
   ]
  },
  {
   "cell_type": "code",
   "execution_count": 11,
   "metadata": {},
   "outputs": [
    {
     "name": "stdout",
     "output_type": "stream",
     "text": [
      "+-----------------+-----------+----------+-----------+\n",
      "|Obitos acumulados|Casos novos|Letalidade|Mortalidade|\n",
      "+-----------------+-----------+----------+-----------+\n",
      "|           526892|       1780|       2.8|      250.7|\n",
      "+-----------------+-----------+----------+-----------+\n",
      "\n"
     ]
    }
   ],
   "source": [
    "# Terceira vizualização,foi separada em dois data frames para agrupar o ultimo registro de casos novos de obitos.\n",
    "\n",
    "covidObitos = covidDF.agg(max(\"obitosAcumulado\").alias(\"Obitos acumulados\"),format_number(max(\"obitosAcumulado\")/max(\"casosAcumulado\")*100,1).alias(\"Letalidade\"),format_number(max(\"obitosAcumulado\")/max(\"populacaoTCU2019\")*100000,1).alias(\"Mortalidade\"),last(\"data\").alias(\"data\"))\n",
    "\n",
    "covidObitosNovos = covidDF.groupBy(\"data\").agg(max(\"obitosNovos\").alias(\"Obitos novos\")).sort(desc(\"data\"))\n",
    "covidCasosObitos = covidObitosNovos.agg(first(\"Obitos novos\").alias(\"Casos novos\"),first(\"data\").alias(\"data\"))\n",
    "\n",
    "covidObitosCasosObitosML = covidObitos.join(covidCasosObitos, covidObitos.data == covidCasosObitos.data,\"inner\")\n",
    "covidObitosCasosObitosMortalidade = covidObitosCasosObitosML.select(\"Obitos acumulados\",\"Casos novos\",\"Letalidade\",\"Mortalidade\")\n",
    "covidObitosCasosObitosMortalidade.show()"
   ]
  },
  {
   "cell_type": "code",
   "execution_count": 12,
   "metadata": {},
   "outputs": [],
   "source": [
    "# Salvar primeira vizualização como uma tabela Hive\n",
    "covidRecuperadosAcompanhamento.write.saveAsTable(\"covid_recuperados\")"
   ]
  },
  {
   "cell_type": "code",
   "execution_count": 14,
   "metadata": {},
   "outputs": [],
   "source": [
    "# Salvar segunda vizualização no HDFS com formato parquet compressão snappy\n",
    "covidAcumuladoIncidenciaCasos.write.parquet(\"/user/lucas/data/covid/casos_confirmados\",compression=\"snappy\",mode=\"overwrite\")\n"
   ]
  },
  {
   "cell_type": "code",
   "execution_count": 15,
   "metadata": {},
   "outputs": [
    {
     "ename": "AnalysisException",
     "evalue": "\"'writeStream' can be called only on streaming Dataset/DataFrame;\"",
     "output_type": "error",
     "traceback": [
      "\u001b[0;31m---------------------------------------------------------------------------\u001b[0m",
      "\u001b[0;31mPy4JJavaError\u001b[0m                             Traceback (most recent call last)",
      "\u001b[0;32m/opt/spark/python/pyspark/sql/utils.py\u001b[0m in \u001b[0;36mdeco\u001b[0;34m(*a, **kw)\u001b[0m\n\u001b[1;32m     62\u001b[0m         \u001b[0;32mtry\u001b[0m\u001b[0;34m:\u001b[0m\u001b[0;34m\u001b[0m\u001b[0;34m\u001b[0m\u001b[0m\n\u001b[0;32m---> 63\u001b[0;31m             \u001b[0;32mreturn\u001b[0m \u001b[0mf\u001b[0m\u001b[0;34m(\u001b[0m\u001b[0;34m*\u001b[0m\u001b[0ma\u001b[0m\u001b[0;34m,\u001b[0m \u001b[0;34m**\u001b[0m\u001b[0mkw\u001b[0m\u001b[0;34m)\u001b[0m\u001b[0;34m\u001b[0m\u001b[0;34m\u001b[0m\u001b[0m\n\u001b[0m\u001b[1;32m     64\u001b[0m         \u001b[0;32mexcept\u001b[0m \u001b[0mpy4j\u001b[0m\u001b[0;34m.\u001b[0m\u001b[0mprotocol\u001b[0m\u001b[0;34m.\u001b[0m\u001b[0mPy4JJavaError\u001b[0m \u001b[0;32mas\u001b[0m \u001b[0me\u001b[0m\u001b[0;34m:\u001b[0m\u001b[0;34m\u001b[0m\u001b[0;34m\u001b[0m\u001b[0m\n",
      "\u001b[0;32m/opt/spark/python/lib/py4j-0.10.7-src.zip/py4j/protocol.py\u001b[0m in \u001b[0;36mget_return_value\u001b[0;34m(answer, gateway_client, target_id, name)\u001b[0m\n\u001b[1;32m    327\u001b[0m                     \u001b[0;34m\"An error occurred while calling {0}{1}{2}.\\n\"\u001b[0m\u001b[0;34m.\u001b[0m\u001b[0;34m\u001b[0m\u001b[0;34m\u001b[0m\u001b[0m\n\u001b[0;32m--> 328\u001b[0;31m                     format(target_id, \".\", name), value)\n\u001b[0m\u001b[1;32m    329\u001b[0m             \u001b[0;32melse\u001b[0m\u001b[0;34m:\u001b[0m\u001b[0;34m\u001b[0m\u001b[0;34m\u001b[0m\u001b[0m\n",
      "\u001b[0;31mPy4JJavaError\u001b[0m: An error occurred while calling o403.writeStream.\n: org.apache.spark.sql.AnalysisException: 'writeStream' can be called only on streaming Dataset/DataFrame;\n\tat org.apache.spark.sql.catalyst.analysis.package$AnalysisErrorAt.failAnalysis(package.scala:42)\n\tat org.apache.spark.sql.Dataset.writeStream(Dataset.scala:3180)\n\tat sun.reflect.NativeMethodAccessorImpl.invoke0(Native Method)\n\tat sun.reflect.NativeMethodAccessorImpl.invoke(NativeMethodAccessorImpl.java:62)\n\tat sun.reflect.DelegatingMethodAccessorImpl.invoke(DelegatingMethodAccessorImpl.java:43)\n\tat java.lang.reflect.Method.invoke(Method.java:498)\n\tat py4j.reflection.MethodInvoker.invoke(MethodInvoker.java:244)\n\tat py4j.reflection.ReflectionEngine.invoke(ReflectionEngine.java:357)\n\tat py4j.Gateway.invoke(Gateway.java:282)\n\tat py4j.commands.AbstractCommand.invokeMethod(AbstractCommand.java:132)\n\tat py4j.commands.CallCommand.execute(CallCommand.java:79)\n\tat py4j.GatewayConnection.run(GatewayConnection.java:238)\n\tat java.lang.Thread.run(Thread.java:748)\n",
      "\nDuring handling of the above exception, another exception occurred:\n",
      "\u001b[0;31mAnalysisException\u001b[0m                         Traceback (most recent call last)",
      "\u001b[0;32m<ipython-input-15-8557ad483340>\u001b[0m in \u001b[0;36m<module>\u001b[0;34m()\u001b[0m\n\u001b[1;32m      1\u001b[0m \u001b[0;31m# Salvar terceira vizualização em um tópico no Kafka, não funcionou\u001b[0m\u001b[0;34m\u001b[0m\u001b[0;34m\u001b[0m\u001b[0;34m\u001b[0m\u001b[0m\n\u001b[0;32m----> 2\u001b[0;31m \u001b[0mcovidObitosCasosObitosMortalidade\u001b[0m\u001b[0;34m.\u001b[0m\u001b[0mwriteStream\u001b[0m\u001b[0;34m.\u001b[0m\u001b[0mformat\u001b[0m\u001b[0;34m(\u001b[0m\u001b[0;34m\"kafka\"\u001b[0m\u001b[0;34m)\u001b[0m\u001b[0;34m.\u001b[0m\u001b[0moption\u001b[0m\u001b[0;34m(\u001b[0m\u001b[0;34m\"kafka.bootstrap.servers\"\u001b[0m\u001b[0;34m,\u001b[0m\u001b[0;34m\"kafka:9092\"\u001b[0m\u001b[0;34m)\u001b[0m\u001b[0;34m.\u001b[0m\u001b[0moption\u001b[0m\u001b[0;34m(\u001b[0m\u001b[0;34m\"topic\"\u001b[0m\u001b[0;34m,\u001b[0m\u001b[0;34m\"topic-kvspark-covid\"\u001b[0m\u001b[0;34m)\u001b[0m\u001b[0;34m.\u001b[0m\u001b[0moption\u001b[0m\u001b[0;34m(\u001b[0m\u001b[0;34m\"checkpointLocation\"\u001b[0m\u001b[0;34m,\u001b[0m\u001b[0;34m\"hdfs://namenode:8020/user/lucas/kafka_stream_covid/check\"\u001b[0m\u001b[0;34m)\u001b[0m\u001b[0;34m.\u001b[0m\u001b[0mstart\u001b[0m\u001b[0;34m(\u001b[0m\u001b[0;34m)\u001b[0m\u001b[0;34m\u001b[0m\u001b[0;34m\u001b[0m\u001b[0m\n\u001b[0m",
      "\u001b[0;32m/opt/spark/python/pyspark/sql/dataframe.py\u001b[0m in \u001b[0;36mwriteStream\u001b[0;34m(self)\u001b[0m\n\u001b[1;32m    239\u001b[0m         \u001b[0;34m:\u001b[0m\u001b[0;32mreturn\u001b[0m\u001b[0;34m:\u001b[0m \u001b[0;34m:\u001b[0m\u001b[0;32mclass\u001b[0m\u001b[0;34m:\u001b[0m\u001b[0;31m`\u001b[0m\u001b[0mDataStreamWriter\u001b[0m\u001b[0;31m`\u001b[0m\u001b[0;34m\u001b[0m\u001b[0;34m\u001b[0m\u001b[0m\n\u001b[1;32m    240\u001b[0m         \"\"\"\n\u001b[0;32m--> 241\u001b[0;31m         \u001b[0;32mreturn\u001b[0m \u001b[0mDataStreamWriter\u001b[0m\u001b[0;34m(\u001b[0m\u001b[0mself\u001b[0m\u001b[0;34m)\u001b[0m\u001b[0;34m\u001b[0m\u001b[0;34m\u001b[0m\u001b[0m\n\u001b[0m\u001b[1;32m    242\u001b[0m \u001b[0;34m\u001b[0m\u001b[0m\n\u001b[1;32m    243\u001b[0m     \u001b[0;34m@\u001b[0m\u001b[0mproperty\u001b[0m\u001b[0;34m\u001b[0m\u001b[0;34m\u001b[0m\u001b[0m\n",
      "\u001b[0;32m/opt/spark/python/pyspark/sql/streaming.py\u001b[0m in \u001b[0;36m__init__\u001b[0;34m(self, df)\u001b[0m\n\u001b[1;32m    699\u001b[0m         \u001b[0mself\u001b[0m\u001b[0;34m.\u001b[0m\u001b[0m_df\u001b[0m \u001b[0;34m=\u001b[0m \u001b[0mdf\u001b[0m\u001b[0;34m\u001b[0m\u001b[0;34m\u001b[0m\u001b[0m\n\u001b[1;32m    700\u001b[0m         \u001b[0mself\u001b[0m\u001b[0;34m.\u001b[0m\u001b[0m_spark\u001b[0m \u001b[0;34m=\u001b[0m \u001b[0mdf\u001b[0m\u001b[0;34m.\u001b[0m\u001b[0msql_ctx\u001b[0m\u001b[0;34m\u001b[0m\u001b[0;34m\u001b[0m\u001b[0m\n\u001b[0;32m--> 701\u001b[0;31m         \u001b[0mself\u001b[0m\u001b[0;34m.\u001b[0m\u001b[0m_jwrite\u001b[0m \u001b[0;34m=\u001b[0m \u001b[0mdf\u001b[0m\u001b[0;34m.\u001b[0m\u001b[0m_jdf\u001b[0m\u001b[0;34m.\u001b[0m\u001b[0mwriteStream\u001b[0m\u001b[0;34m(\u001b[0m\u001b[0;34m)\u001b[0m\u001b[0;34m\u001b[0m\u001b[0;34m\u001b[0m\u001b[0m\n\u001b[0m\u001b[1;32m    702\u001b[0m \u001b[0;34m\u001b[0m\u001b[0m\n\u001b[1;32m    703\u001b[0m     \u001b[0;32mdef\u001b[0m \u001b[0m_sq\u001b[0m\u001b[0;34m(\u001b[0m\u001b[0mself\u001b[0m\u001b[0;34m,\u001b[0m \u001b[0mjsq\u001b[0m\u001b[0;34m)\u001b[0m\u001b[0;34m:\u001b[0m\u001b[0;34m\u001b[0m\u001b[0;34m\u001b[0m\u001b[0m\n",
      "\u001b[0;32m/opt/spark/python/lib/py4j-0.10.7-src.zip/py4j/java_gateway.py\u001b[0m in \u001b[0;36m__call__\u001b[0;34m(self, *args)\u001b[0m\n\u001b[1;32m   1255\u001b[0m         \u001b[0manswer\u001b[0m \u001b[0;34m=\u001b[0m \u001b[0mself\u001b[0m\u001b[0;34m.\u001b[0m\u001b[0mgateway_client\u001b[0m\u001b[0;34m.\u001b[0m\u001b[0msend_command\u001b[0m\u001b[0;34m(\u001b[0m\u001b[0mcommand\u001b[0m\u001b[0;34m)\u001b[0m\u001b[0;34m\u001b[0m\u001b[0;34m\u001b[0m\u001b[0m\n\u001b[1;32m   1256\u001b[0m         return_value = get_return_value(\n\u001b[0;32m-> 1257\u001b[0;31m             answer, self.gateway_client, self.target_id, self.name)\n\u001b[0m\u001b[1;32m   1258\u001b[0m \u001b[0;34m\u001b[0m\u001b[0m\n\u001b[1;32m   1259\u001b[0m         \u001b[0;32mfor\u001b[0m \u001b[0mtemp_arg\u001b[0m \u001b[0;32min\u001b[0m \u001b[0mtemp_args\u001b[0m\u001b[0;34m:\u001b[0m\u001b[0;34m\u001b[0m\u001b[0;34m\u001b[0m\u001b[0m\n",
      "\u001b[0;32m/opt/spark/python/pyspark/sql/utils.py\u001b[0m in \u001b[0;36mdeco\u001b[0;34m(*a, **kw)\u001b[0m\n\u001b[1;32m     67\u001b[0m                                              e.java_exception.getStackTrace()))\n\u001b[1;32m     68\u001b[0m             \u001b[0;32mif\u001b[0m \u001b[0ms\u001b[0m\u001b[0;34m.\u001b[0m\u001b[0mstartswith\u001b[0m\u001b[0;34m(\u001b[0m\u001b[0;34m'org.apache.spark.sql.AnalysisException: '\u001b[0m\u001b[0;34m)\u001b[0m\u001b[0;34m:\u001b[0m\u001b[0;34m\u001b[0m\u001b[0;34m\u001b[0m\u001b[0m\n\u001b[0;32m---> 69\u001b[0;31m                 \u001b[0;32mraise\u001b[0m \u001b[0mAnalysisException\u001b[0m\u001b[0;34m(\u001b[0m\u001b[0ms\u001b[0m\u001b[0;34m.\u001b[0m\u001b[0msplit\u001b[0m\u001b[0;34m(\u001b[0m\u001b[0;34m': '\u001b[0m\u001b[0;34m,\u001b[0m \u001b[0;36m1\u001b[0m\u001b[0;34m)\u001b[0m\u001b[0;34m[\u001b[0m\u001b[0;36m1\u001b[0m\u001b[0;34m]\u001b[0m\u001b[0;34m,\u001b[0m \u001b[0mstackTrace\u001b[0m\u001b[0;34m)\u001b[0m\u001b[0;34m\u001b[0m\u001b[0;34m\u001b[0m\u001b[0m\n\u001b[0m\u001b[1;32m     70\u001b[0m             \u001b[0;32mif\u001b[0m \u001b[0ms\u001b[0m\u001b[0;34m.\u001b[0m\u001b[0mstartswith\u001b[0m\u001b[0;34m(\u001b[0m\u001b[0;34m'org.apache.spark.sql.catalyst.analysis'\u001b[0m\u001b[0;34m)\u001b[0m\u001b[0;34m:\u001b[0m\u001b[0;34m\u001b[0m\u001b[0;34m\u001b[0m\u001b[0m\n\u001b[1;32m     71\u001b[0m                 \u001b[0;32mraise\u001b[0m \u001b[0mAnalysisException\u001b[0m\u001b[0;34m(\u001b[0m\u001b[0ms\u001b[0m\u001b[0;34m.\u001b[0m\u001b[0msplit\u001b[0m\u001b[0;34m(\u001b[0m\u001b[0;34m': '\u001b[0m\u001b[0;34m,\u001b[0m \u001b[0;36m1\u001b[0m\u001b[0;34m)\u001b[0m\u001b[0;34m[\u001b[0m\u001b[0;36m1\u001b[0m\u001b[0;34m]\u001b[0m\u001b[0;34m,\u001b[0m \u001b[0mstackTrace\u001b[0m\u001b[0;34m)\u001b[0m\u001b[0;34m\u001b[0m\u001b[0;34m\u001b[0m\u001b[0m\n",
      "\u001b[0;31mAnalysisException\u001b[0m: \"'writeStream' can be called only on streaming Dataset/DataFrame;\""
     ]
    }
   ],
   "source": [
    "# Salvar terceira vizualização em um tópico no Kafka, não funcionou \n",
    "covidObitosCasosObitosMortalidade.writeStream.format(\"kafka\")\\\n",
    ".option(\"kafka.bootstrap.servers\",\"kafka:9092\").option(\"topic\",\"topic-kvspark-covid\")\\\n",
    ".option(\"checkpointLocation\",\"hdfs://namenode:8020/user/lucas/kafka_stream_covid/check\").start()\n",
    "\n"
   ]
  },
  {
   "cell_type": "code",
   "execution_count": 16,
   "metadata": {},
   "outputs": [
    {
     "name": "stdout",
     "output_type": "stream",
     "text": [
      "+-----------------+-----------------+\n",
      "|Casos_Recuperados|Em_acompanhamento|\n",
      "+-----------------+-----------------+\n",
      "|         17262646|          1065477|\n",
      "+-----------------+-----------------+\n",
      "\n"
     ]
    }
   ],
   "source": [
    "# Carregar a primeira vizualização salva como tabela Hive\n",
    "recuperados = spark.read.table(\"covid_recuperados\")\n",
    "recuperados.show()"
   ]
  },
  {
   "cell_type": "code",
   "execution_count": 17,
   "metadata": {},
   "outputs": [
    {
     "name": "stdout",
     "output_type": "stream",
     "text": [
      "+---------+-----------+----------+\n",
      "|Acumulado|Casos_novos|Incidencia|\n",
      "+---------+-----------+----------+\n",
      "| 18855015|      62504|   8,972.3|\n",
      "+---------+-----------+----------+\n",
      "\n"
     ]
    }
   ],
   "source": [
    "# Carregar a segunda vizualização salva no HDFS com o formato Parquet\n",
    "casosConfirmados = spark.read.parquet(\"/user/lucas/data/covid/casos_confirmados\")\n",
    "casosConfirmados.show()"
   ]
  },
  {
   "cell_type": "code",
   "execution_count": null,
   "metadata": {},
   "outputs": [],
   "source": []
  },
  {
   "cell_type": "code",
   "execution_count": null,
   "metadata": {},
   "outputs": [],
   "source": []
  },
  {
   "cell_type": "code",
   "execution_count": null,
   "metadata": {},
   "outputs": [],
   "source": []
  },
  {
   "cell_type": "code",
   "execution_count": null,
   "metadata": {},
   "outputs": [],
   "source": []
  }
 ],
 "metadata": {
  "kernelspec": {
   "display_name": "PySpark",
   "language": "python",
   "name": "pyspark"
  },
  "language_info": {
   "codemirror_mode": {
    "name": "ipython",
    "version": 3
   },
   "file_extension": ".py",
   "mimetype": "text/x-python",
   "name": "python",
   "nbconvert_exporter": "python",
   "pygments_lexer": "ipython3",
   "version": "3.6.10"
  }
 },
 "nbformat": 4,
 "nbformat_minor": 2
}
